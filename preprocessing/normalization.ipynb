{
 "cells": [
  {
   "cell_type": "markdown",
   "metadata": {},
   "source": [
    "<h1>Formatage et normalisation des données</h1>"
   ]
  },
  {
   "cell_type": "markdown",
   "metadata": {},
   "source": [
    "<h3>Plan: </h3>\n",
    "<ol>\n",
    "    <li>Standardisation des noms de colones</li>\n",
    "    <li>Formatage des unités</li>\n",
    "    <li>Création de deux nouvelle colonne [\"month\", \"year\"] à partir de la colone Listing_date</li>\n",
    "    <li>Export des résultats</li>\n",
    "</ol>"
   ]
  },
  {
   "cell_type": "code",
   "execution_count": 14,
   "metadata": {},
   "outputs": [],
   "source": [
    "import pandas as pd \n",
    "import numpy as np \n",
    "import matplotlib.pyplot as plt\n",
    "import seaborn as sns  \n",
    "import re"
   ]
  },
  {
   "cell_type": "code",
   "execution_count": 15,
   "metadata": {},
   "outputs": [],
   "source": [
    "df = pd.read_csv('../data/data.csv',sep=';')"
   ]
  },
  {
   "cell_type": "code",
   "execution_count": 16,
   "metadata": {},
   "outputs": [
    {
     "data": {
      "text/html": [
       "<div>\n",
       "<style scoped>\n",
       "    .dataframe tbody tr th:only-of-type {\n",
       "        vertical-align: middle;\n",
       "    }\n",
       "\n",
       "    .dataframe tbody tr th {\n",
       "        vertical-align: top;\n",
       "    }\n",
       "\n",
       "    .dataframe thead th {\n",
       "        text-align: right;\n",
       "    }\n",
       "</style>\n",
       "<table border=\"1\" class=\"dataframe\">\n",
       "  <thead>\n",
       "    <tr style=\"text-align: right;\">\n",
       "      <th></th>\n",
       "      <th>Bathrooms</th>\n",
       "      <th>Bedrooms</th>\n",
       "      <th>Erf Size</th>\n",
       "      <th>Floor Size</th>\n",
       "      <th>Garages</th>\n",
       "      <th>Listing Date</th>\n",
       "      <th>Listing Number</th>\n",
       "      <th>Pet Friendly</th>\n",
       "      <th>Price</th>\n",
       "      <th>Town</th>\n",
       "      <th>...</th>\n",
       "      <th>Secure Parking</th>\n",
       "      <th>Parking</th>\n",
       "      <th>No Pets Allowed</th>\n",
       "      <th>Furnished</th>\n",
       "      <th>Flatlet</th>\n",
       "      <th>Fibre Internet</th>\n",
       "      <th>Furnished (Optional)</th>\n",
       "      <th>ADSL Internet</th>\n",
       "      <th>Satellite Internet</th>\n",
       "      <th>Fixed WiMax Internet</th>\n",
       "    </tr>\n",
       "  </thead>\n",
       "  <tbody>\n",
       "    <tr>\n",
       "      <th>0</th>\n",
       "      <td>3.0</td>\n",
       "      <td>3.0</td>\n",
       "      <td>304 m²</td>\n",
       "      <td>326 m²</td>\n",
       "      <td>2.0</td>\n",
       "      <td>10 July 2020</td>\n",
       "      <td>108859219</td>\n",
       "      <td>1.0</td>\n",
       "      <td>6480000.0</td>\n",
       "      <td>Tokai, Cape Town</td>\n",
       "      <td>...</td>\n",
       "      <td>NaN</td>\n",
       "      <td>NaN</td>\n",
       "      <td>NaN</td>\n",
       "      <td>NaN</td>\n",
       "      <td>NaN</td>\n",
       "      <td>NaN</td>\n",
       "      <td>NaN</td>\n",
       "      <td>NaN</td>\n",
       "      <td>NaN</td>\n",
       "      <td>NaN</td>\n",
       "    </tr>\n",
       "    <tr>\n",
       "      <th>1</th>\n",
       "      <td>3.0</td>\n",
       "      <td>3.0</td>\n",
       "      <td>NaN</td>\n",
       "      <td>140 m²</td>\n",
       "      <td>2.0</td>\n",
       "      <td>23 September 2020</td>\n",
       "      <td>109153971</td>\n",
       "      <td>1.0</td>\n",
       "      <td>6250000.0</td>\n",
       "      <td>14 Graham Road, Sea Point, Cape Town</td>\n",
       "      <td>...</td>\n",
       "      <td>NaN</td>\n",
       "      <td>NaN</td>\n",
       "      <td>NaN</td>\n",
       "      <td>NaN</td>\n",
       "      <td>NaN</td>\n",
       "      <td>NaN</td>\n",
       "      <td>NaN</td>\n",
       "      <td>NaN</td>\n",
       "      <td>NaN</td>\n",
       "      <td>NaN</td>\n",
       "    </tr>\n",
       "    <tr>\n",
       "      <th>2</th>\n",
       "      <td>3.5</td>\n",
       "      <td>4.0</td>\n",
       "      <td>659 m²</td>\n",
       "      <td>300 m²</td>\n",
       "      <td>2.0</td>\n",
       "      <td>23 September 2020</td>\n",
       "      <td>109154367</td>\n",
       "      <td>NaN</td>\n",
       "      <td>13950000.0</td>\n",
       "      <td>Camps Bay, Cape Town</td>\n",
       "      <td>...</td>\n",
       "      <td>2.0</td>\n",
       "      <td>NaN</td>\n",
       "      <td>NaN</td>\n",
       "      <td>NaN</td>\n",
       "      <td>NaN</td>\n",
       "      <td>NaN</td>\n",
       "      <td>NaN</td>\n",
       "      <td>NaN</td>\n",
       "      <td>NaN</td>\n",
       "      <td>NaN</td>\n",
       "    </tr>\n",
       "    <tr>\n",
       "      <th>3</th>\n",
       "      <td>1.0</td>\n",
       "      <td>2.0</td>\n",
       "      <td>NaN</td>\n",
       "      <td>NaN</td>\n",
       "      <td>NaN</td>\n",
       "      <td>23 September 2020</td>\n",
       "      <td>109154455</td>\n",
       "      <td>NaN</td>\n",
       "      <td>1050000.0</td>\n",
       "      <td>Ottery, Cape Town</td>\n",
       "      <td>...</td>\n",
       "      <td>NaN</td>\n",
       "      <td>1.0</td>\n",
       "      <td>NaN</td>\n",
       "      <td>NaN</td>\n",
       "      <td>NaN</td>\n",
       "      <td>NaN</td>\n",
       "      <td>NaN</td>\n",
       "      <td>NaN</td>\n",
       "      <td>NaN</td>\n",
       "      <td>NaN</td>\n",
       "    </tr>\n",
       "    <tr>\n",
       "      <th>4</th>\n",
       "      <td>1.0</td>\n",
       "      <td>1.0</td>\n",
       "      <td>NaN</td>\n",
       "      <td>61 m²</td>\n",
       "      <td>NaN</td>\n",
       "      <td>23 July 2020</td>\n",
       "      <td>108907258</td>\n",
       "      <td>NaN</td>\n",
       "      <td>1265000.0</td>\n",
       "      <td>Muizenberg, Cape Town</td>\n",
       "      <td>...</td>\n",
       "      <td>1.0</td>\n",
       "      <td>NaN</td>\n",
       "      <td>NaN</td>\n",
       "      <td>NaN</td>\n",
       "      <td>NaN</td>\n",
       "      <td>NaN</td>\n",
       "      <td>NaN</td>\n",
       "      <td>NaN</td>\n",
       "      <td>NaN</td>\n",
       "      <td>NaN</td>\n",
       "    </tr>\n",
       "  </tbody>\n",
       "</table>\n",
       "<p>5 rows × 23 columns</p>\n",
       "</div>"
      ],
      "text/plain": [
       "   Bathrooms  Bedrooms Erf Size Floor Size  Garages       Listing Date  \\\n",
       "0        3.0       3.0   304 m²     326 m²      2.0       10 July 2020   \n",
       "1        3.0       3.0      NaN     140 m²      2.0  23 September 2020   \n",
       "2        3.5       4.0   659 m²     300 m²      2.0  23 September 2020   \n",
       "3        1.0       2.0      NaN        NaN      NaN  23 September 2020   \n",
       "4        1.0       1.0      NaN      61 m²      NaN       23 July 2020   \n",
       "\n",
       "   Listing Number  Pet Friendly       Price  \\\n",
       "0       108859219           1.0   6480000.0   \n",
       "1       109153971           1.0   6250000.0   \n",
       "2       109154367           NaN  13950000.0   \n",
       "3       109154455           NaN   1050000.0   \n",
       "4       108907258           NaN   1265000.0   \n",
       "\n",
       "                                   Town  ... Secure Parking  Parking  \\\n",
       "0                      Tokai, Cape Town  ...            NaN      NaN   \n",
       "1  14 Graham Road, Sea Point, Cape Town  ...            NaN      NaN   \n",
       "2                  Camps Bay, Cape Town  ...            2.0      NaN   \n",
       "3                     Ottery, Cape Town  ...            NaN      1.0   \n",
       "4                 Muizenberg, Cape Town  ...            1.0      NaN   \n",
       "\n",
       "   No Pets Allowed  Furnished  Flatlet  Fibre Internet  Furnished (Optional)  \\\n",
       "0              NaN        NaN      NaN             NaN                   NaN   \n",
       "1              NaN        NaN      NaN             NaN                   NaN   \n",
       "2              NaN        NaN      NaN             NaN                   NaN   \n",
       "3              NaN        NaN      NaN             NaN                   NaN   \n",
       "4              NaN        NaN      NaN             NaN                   NaN   \n",
       "\n",
       "   ADSL Internet  Satellite Internet  Fixed WiMax Internet  \n",
       "0            NaN                 NaN                   NaN  \n",
       "1            NaN                 NaN                   NaN  \n",
       "2            NaN                 NaN                   NaN  \n",
       "3            NaN                 NaN                   NaN  \n",
       "4            NaN                 NaN                   NaN  \n",
       "\n",
       "[5 rows x 23 columns]"
      ]
     },
     "execution_count": 16,
     "metadata": {},
     "output_type": "execute_result"
    }
   ],
   "source": [
    "df.head()"
   ]
  },
  {
   "cell_type": "markdown",
   "metadata": {},
   "source": [
    "<h2>1) Standardisation des noms de colones</h2>"
   ]
  },
  {
   "cell_type": "code",
   "execution_count": 17,
   "metadata": {},
   "outputs": [
    {
     "data": {
      "text/plain": [
       "['Bathrooms',\n",
       " 'Bedrooms',\n",
       " 'Erf Size',\n",
       " 'Floor Size',\n",
       " 'Garages',\n",
       " 'Listing Date',\n",
       " 'Listing Number',\n",
       " 'Pet Friendly',\n",
       " 'Price',\n",
       " 'Town',\n",
       " 'Type of Property',\n",
       " 'Garden',\n",
       " 'Pool',\n",
       " 'Secure Parking',\n",
       " 'Parking',\n",
       " 'No Pets Allowed',\n",
       " 'Furnished',\n",
       " 'Flatlet',\n",
       " 'Fibre Internet',\n",
       " 'Furnished (Optional)',\n",
       " 'ADSL Internet',\n",
       " 'Satellite Internet',\n",
       " 'Fixed WiMax Internet']"
      ]
     },
     "execution_count": 17,
     "metadata": {},
     "output_type": "execute_result"
    }
   ],
   "source": [
    "df.columns.to_list()"
   ]
  },
  {
   "cell_type": "code",
   "execution_count": 18,
   "metadata": {},
   "outputs": [],
   "source": [
    "df.columns = [\n",
    "                'Bathrooms', \n",
    "                'Bedrooms', \n",
    "                'Erf_size', \n",
    "                'Floor_size', \n",
    "                'Garages',\n",
    "                'Listing_date', \n",
    "                'Listing_number', \n",
    "                'Pet_friendly', \n",
    "                'Price', \n",
    "                'Town',\n",
    "                'Type_of_property', \n",
    "                'Garden', \n",
    "                'Pool', \n",
    "                'Secure_parking', \n",
    "                'Parking',\n",
    "                'No_pets_allowed', \n",
    "                'Furnished', \n",
    "                'Flatlet', \n",
    "                'Fibre_internet',\n",
    "                'Furnished_optional', \n",
    "                'ADSL_internet', \n",
    "                'Satellite_internet',\n",
    "                'Fixed_wimax_internet', \n",
    "            ]"
   ]
  },
  {
   "cell_type": "markdown",
   "metadata": {},
   "source": [
    "<h2>2) Formatage des unités</h2>"
   ]
  },
  {
   "cell_type": "code",
   "execution_count": 19,
   "metadata": {},
   "outputs": [],
   "source": [
    "def change_surface_to_m_carree(x):\n",
    "    if(pd.isna(x) == False):\n",
    "        if re.findall(r'ha', x):\n",
    "            x = x.replace('ha', '')\n",
    "            x = float(x)\n",
    "            x = x * 10000\n",
    "        else:\n",
    "            x = x.replace('m²', '')\n",
    "            x = float(x)\n",
    "\n",
    "    return x"
   ]
  },
  {
   "cell_type": "code",
   "execution_count": 20,
   "metadata": {},
   "outputs": [],
   "source": [
    "df['Erf_size']      = df['Erf_size'].str.replace(' ', '')\n",
    "df['Erf_size']      = df['Erf_size'].map(lambda x:change_surface_to_m_carree(x))\n",
    "\n",
    "df['Floor_size']    = df['Floor_size'].str.replace(' ', '')\n",
    "df['Floor_size']    = df['Floor_size'].map(lambda x:change_surface_to_m_carree(x))"
   ]
  },
  {
   "cell_type": "markdown",
   "metadata": {},
   "source": [
    "<h2>3) Création de deux nouvelle colonne [\"month\", \"year\"] à partir de la colone Listing_date</h2>"
   ]
  },
  {
   "cell_type": "code",
   "execution_count": 21,
   "metadata": {},
   "outputs": [],
   "source": [
    "df['Listing_date'] = pd.to_datetime(df['Listing_date'])\n",
    "df[\"month\"] = df['Listing_date'].map(lambda x: x.month)\n",
    "df[\"year\"] = df['Listing_date'].map(lambda x: x.year)"
   ]
  },
  {
   "cell_type": "markdown",
   "metadata": {},
   "source": [
    "<h2>4) Export des résultats</h2>"
   ]
  },
  {
   "cell_type": "code",
   "execution_count": 22,
   "metadata": {},
   "outputs": [],
   "source": [
    "df.to_csv(\"../data/data_v1.csv\",sep=\";\",index=False)"
   ]
  },
  {
   "cell_type": "code",
   "execution_count": null,
   "metadata": {},
   "outputs": [],
   "source": []
  }
 ],
 "metadata": {
  "interpreter": {
   "hash": "a7829d1ed43ddbf5b48487fc09f8d47f02b6887d17a5b9ac72e99f7acf7c2771"
  },
  "kernelspec": {
   "display_name": "Python 3.8.5 64-bit ('base': conda)",
   "language": "python",
   "name": "python3"
  },
  "language_info": {
   "codemirror_mode": {
    "name": "ipython",
    "version": 3
   },
   "file_extension": ".py",
   "mimetype": "text/x-python",
   "name": "python",
   "nbconvert_exporter": "python",
   "pygments_lexer": "ipython3",
   "version": "3.8.5"
  },
  "orig_nbformat": 4
 },
 "nbformat": 4,
 "nbformat_minor": 2
}
