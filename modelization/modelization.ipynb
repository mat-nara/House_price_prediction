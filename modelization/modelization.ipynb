{
 "cells": [
  {
   "cell_type": "markdown",
   "metadata": {},
   "source": [
    "<h1>Modelisation</h1>"
   ]
  },
  {
   "cell_type": "markdown",
   "metadata": {},
   "source": [
    "<h3>Plan: </h3>\n",
    "<ol>\n",
    "    <li>Pré-traitement</li>\n",
    "    <ul>\n",
    "        <li>Transformation des variables qualitatives en dummies</li>\n",
    "        <li>Transformation Logarithme</li>\n",
    "    </ul>\n",
    "    <li>Fractionnement des données</li>\n",
    "    <ul>\n",
    "        <li>Fractionnement</li>\n",
    "        <li>Definition des données train et test</li>\n",
    "        <li>Fonction utiles</li>\n",
    "    </ul>\n",
    "    <li>Modelisation</li>\n",
    "    <ul>\n",
    "        <li>Regression Linéaire</li>\n",
    "        <li>Regression Ridge</li>\n",
    "        <li>Decision Tree</li>\n",
    "        <li>Random Forest</li>\n",
    "        <li>Gradient Boosting</li>\n",
    "        <li>Xgboost</li>\n",
    "        <li>Staking</li>\n",
    "    </ul>\n",
    "    <li>Conclusion</li>\n",
    "</ol>"
   ]
  },
  {
   "cell_type": "code",
   "execution_count": 1,
   "metadata": {},
   "outputs": [],
   "source": [
    "import pandas as pd\n",
    "import numpy as np\n",
    "from scipy.stats import spearmanr\n",
    "from sklearn.utils import shuffle\n",
    "from sklearn.linear_model import LinearRegression\n",
    "from sklearn.model_selection import train_test_split\n",
    "from sklearn import metrics\n",
    "from sklearn.ensemble import GradientBoostingRegressor\n",
    "from xgboost import XGBRegressor\n",
    "from sklearn.tree import DecisionTreeRegressor\n",
    "from sklearn import linear_model\n",
    "from sklearn import metrics\n",
    "from sklearn.feature_selection import SelectFromModel\n",
    "from sklearn.linear_model import Ridge\n",
    "from sklearn.linear_model import Lasso\n",
    "from sklearn.preprocessing import PolynomialFeatures\n",
    "from sklearn.linear_model import LinearRegression\n",
    "from sklearn.ensemble import RandomForestRegressor\n",
    "from sklearn.model_selection import KFold, cross_val_score\n",
    "from sklearn.ensemble import StackingRegressor\n",
    "from sklearn.model_selection import cross_val_score, GridSearchCV,RandomizedSearchCV"
   ]
  },
  {
   "cell_type": "code",
   "execution_count": 2,
   "metadata": {},
   "outputs": [],
   "source": [
    "df = pd.read_csv('../data/data_v3.csv',sep=';')"
   ]
  },
  {
   "cell_type": "code",
   "execution_count": 3,
   "metadata": {},
   "outputs": [
    {
     "data": {
      "text/html": [
       "<div>\n",
       "<style scoped>\n",
       "    .dataframe tbody tr th:only-of-type {\n",
       "        vertical-align: middle;\n",
       "    }\n",
       "\n",
       "    .dataframe tbody tr th {\n",
       "        vertical-align: top;\n",
       "    }\n",
       "\n",
       "    .dataframe thead th {\n",
       "        text-align: right;\n",
       "    }\n",
       "</style>\n",
       "<table border=\"1\" class=\"dataframe\">\n",
       "  <thead>\n",
       "    <tr style=\"text-align: right;\">\n",
       "      <th></th>\n",
       "      <th>Bathrooms</th>\n",
       "      <th>Bedrooms</th>\n",
       "      <th>Erf_size</th>\n",
       "      <th>Floor_size</th>\n",
       "      <th>Garages</th>\n",
       "      <th>Listing_date</th>\n",
       "      <th>Listing_number</th>\n",
       "      <th>Pet_friendly</th>\n",
       "      <th>Price</th>\n",
       "      <th>Town</th>\n",
       "      <th>...</th>\n",
       "      <th>Flatlet</th>\n",
       "      <th>Fibre_internet</th>\n",
       "      <th>Furnished_optional</th>\n",
       "      <th>ADSL_internet</th>\n",
       "      <th>Satellite_internet</th>\n",
       "      <th>Fixed_wimax_internet</th>\n",
       "      <th>month</th>\n",
       "      <th>year</th>\n",
       "      <th>District</th>\n",
       "      <th>Price_bins</th>\n",
       "    </tr>\n",
       "  </thead>\n",
       "  <tbody>\n",
       "    <tr>\n",
       "      <th>0</th>\n",
       "      <td>3.0</td>\n",
       "      <td>3.0</td>\n",
       "      <td>304.0</td>\n",
       "      <td>326.0</td>\n",
       "      <td>2.0</td>\n",
       "      <td>2020-07-10</td>\n",
       "      <td>108859219</td>\n",
       "      <td>1.0</td>\n",
       "      <td>6480000.0</td>\n",
       "      <td>Tokai, Cape Town</td>\n",
       "      <td>...</td>\n",
       "      <td>0.0</td>\n",
       "      <td>0.0</td>\n",
       "      <td>0.0</td>\n",
       "      <td>0.0</td>\n",
       "      <td>0.0</td>\n",
       "      <td>0.0</td>\n",
       "      <td>7</td>\n",
       "      <td>2020</td>\n",
       "      <td>Tokai</td>\n",
       "      <td>(0.0, 10000000.0]</td>\n",
       "    </tr>\n",
       "    <tr>\n",
       "      <th>1</th>\n",
       "      <td>3.0</td>\n",
       "      <td>3.0</td>\n",
       "      <td>430.5</td>\n",
       "      <td>140.0</td>\n",
       "      <td>2.0</td>\n",
       "      <td>2020-09-23</td>\n",
       "      <td>109153971</td>\n",
       "      <td>1.0</td>\n",
       "      <td>6250000.0</td>\n",
       "      <td>14 Graham Road, Sea Point, Cape Town</td>\n",
       "      <td>...</td>\n",
       "      <td>0.0</td>\n",
       "      <td>0.0</td>\n",
       "      <td>0.0</td>\n",
       "      <td>0.0</td>\n",
       "      <td>0.0</td>\n",
       "      <td>0.0</td>\n",
       "      <td>9</td>\n",
       "      <td>2020</td>\n",
       "      <td>Sea Point</td>\n",
       "      <td>(0.0, 10000000.0]</td>\n",
       "    </tr>\n",
       "    <tr>\n",
       "      <th>2</th>\n",
       "      <td>3.5</td>\n",
       "      <td>4.0</td>\n",
       "      <td>659.0</td>\n",
       "      <td>300.0</td>\n",
       "      <td>2.0</td>\n",
       "      <td>2020-09-23</td>\n",
       "      <td>109154367</td>\n",
       "      <td>0.0</td>\n",
       "      <td>13950000.0</td>\n",
       "      <td>Camps Bay, Cape Town</td>\n",
       "      <td>...</td>\n",
       "      <td>0.0</td>\n",
       "      <td>0.0</td>\n",
       "      <td>0.0</td>\n",
       "      <td>0.0</td>\n",
       "      <td>0.0</td>\n",
       "      <td>0.0</td>\n",
       "      <td>9</td>\n",
       "      <td>2020</td>\n",
       "      <td>Camps Bay</td>\n",
       "      <td>(10000000.0, 20000000.0]</td>\n",
       "    </tr>\n",
       "    <tr>\n",
       "      <th>3</th>\n",
       "      <td>1.0</td>\n",
       "      <td>2.0</td>\n",
       "      <td>430.5</td>\n",
       "      <td>92.0</td>\n",
       "      <td>1.0</td>\n",
       "      <td>2020-09-23</td>\n",
       "      <td>109154455</td>\n",
       "      <td>0.0</td>\n",
       "      <td>1050000.0</td>\n",
       "      <td>Ottery, Cape Town</td>\n",
       "      <td>...</td>\n",
       "      <td>0.0</td>\n",
       "      <td>0.0</td>\n",
       "      <td>0.0</td>\n",
       "      <td>0.0</td>\n",
       "      <td>0.0</td>\n",
       "      <td>0.0</td>\n",
       "      <td>9</td>\n",
       "      <td>2020</td>\n",
       "      <td>Ottery</td>\n",
       "      <td>(0.0, 10000000.0]</td>\n",
       "    </tr>\n",
       "    <tr>\n",
       "      <th>4</th>\n",
       "      <td>1.0</td>\n",
       "      <td>1.0</td>\n",
       "      <td>430.5</td>\n",
       "      <td>61.0</td>\n",
       "      <td>1.0</td>\n",
       "      <td>2020-07-23</td>\n",
       "      <td>108907258</td>\n",
       "      <td>0.0</td>\n",
       "      <td>1265000.0</td>\n",
       "      <td>Muizenberg, Cape Town</td>\n",
       "      <td>...</td>\n",
       "      <td>0.0</td>\n",
       "      <td>0.0</td>\n",
       "      <td>0.0</td>\n",
       "      <td>0.0</td>\n",
       "      <td>0.0</td>\n",
       "      <td>0.0</td>\n",
       "      <td>7</td>\n",
       "      <td>2020</td>\n",
       "      <td>Muizenberg</td>\n",
       "      <td>(0.0, 10000000.0]</td>\n",
       "    </tr>\n",
       "  </tbody>\n",
       "</table>\n",
       "<p>5 rows × 27 columns</p>\n",
       "</div>"
      ],
      "text/plain": [
       "   Bathrooms  Bedrooms  Erf_size  Floor_size  Garages Listing_date  \\\n",
       "0        3.0       3.0     304.0       326.0      2.0   2020-07-10   \n",
       "1        3.0       3.0     430.5       140.0      2.0   2020-09-23   \n",
       "2        3.5       4.0     659.0       300.0      2.0   2020-09-23   \n",
       "3        1.0       2.0     430.5        92.0      1.0   2020-09-23   \n",
       "4        1.0       1.0     430.5        61.0      1.0   2020-07-23   \n",
       "\n",
       "   Listing_number  Pet_friendly       Price  \\\n",
       "0       108859219           1.0   6480000.0   \n",
       "1       109153971           1.0   6250000.0   \n",
       "2       109154367           0.0  13950000.0   \n",
       "3       109154455           0.0   1050000.0   \n",
       "4       108907258           0.0   1265000.0   \n",
       "\n",
       "                                   Town  ... Flatlet  Fibre_internet  \\\n",
       "0                      Tokai, Cape Town  ...     0.0             0.0   \n",
       "1  14 Graham Road, Sea Point, Cape Town  ...     0.0             0.0   \n",
       "2                  Camps Bay, Cape Town  ...     0.0             0.0   \n",
       "3                     Ottery, Cape Town  ...     0.0             0.0   \n",
       "4                 Muizenberg, Cape Town  ...     0.0             0.0   \n",
       "\n",
       "   Furnished_optional  ADSL_internet  Satellite_internet  \\\n",
       "0                 0.0            0.0                 0.0   \n",
       "1                 0.0            0.0                 0.0   \n",
       "2                 0.0            0.0                 0.0   \n",
       "3                 0.0            0.0                 0.0   \n",
       "4                 0.0            0.0                 0.0   \n",
       "\n",
       "   Fixed_wimax_internet  month  year    District                Price_bins  \n",
       "0                   0.0      7  2020       Tokai         (0.0, 10000000.0]  \n",
       "1                   0.0      9  2020   Sea Point         (0.0, 10000000.0]  \n",
       "2                   0.0      9  2020   Camps Bay  (10000000.0, 20000000.0]  \n",
       "3                   0.0      9  2020      Ottery         (0.0, 10000000.0]  \n",
       "4                   0.0      7  2020  Muizenberg         (0.0, 10000000.0]  \n",
       "\n",
       "[5 rows x 27 columns]"
      ]
     },
     "execution_count": 3,
     "metadata": {},
     "output_type": "execute_result"
    }
   ],
   "source": [
    "df.head()"
   ]
  },
  {
   "cell_type": "markdown",
   "metadata": {},
   "source": [
    "<h2>1) Pré-traitement</h2>"
   ]
  },
  {
   "cell_type": "markdown",
   "metadata": {},
   "source": [
    "<ul><li><h3>Transformation des varibles qualitatives en dummies</h3></li></ul>"
   ]
  },
  {
   "cell_type": "code",
   "execution_count": 4,
   "metadata": {},
   "outputs": [],
   "source": [
    "var_qualitative = [\"District\",\"Type_of_property\"]\n",
    "dummies = pd.get_dummies(df[var_qualitative])\n",
    "df=pd.concat([df,dummies],axis=1)"
   ]
  },
  {
   "cell_type": "code",
   "execution_count": 5,
   "metadata": {},
   "outputs": [
    {
     "data": {
      "text/html": [
       "<div>\n",
       "<style scoped>\n",
       "    .dataframe tbody tr th:only-of-type {\n",
       "        vertical-align: middle;\n",
       "    }\n",
       "\n",
       "    .dataframe tbody tr th {\n",
       "        vertical-align: top;\n",
       "    }\n",
       "\n",
       "    .dataframe thead th {\n",
       "        text-align: right;\n",
       "    }\n",
       "</style>\n",
       "<table border=\"1\" class=\"dataframe\">\n",
       "  <thead>\n",
       "    <tr style=\"text-align: right;\">\n",
       "      <th></th>\n",
       "      <th>Bathrooms</th>\n",
       "      <th>Bedrooms</th>\n",
       "      <th>Erf_size</th>\n",
       "      <th>Floor_size</th>\n",
       "      <th>Garages</th>\n",
       "      <th>Listing_date</th>\n",
       "      <th>Listing_number</th>\n",
       "      <th>Pet_friendly</th>\n",
       "      <th>Price</th>\n",
       "      <th>Town</th>\n",
       "      <th>...</th>\n",
       "      <th>District_Waterfront</th>\n",
       "      <th>District_Woodstock</th>\n",
       "      <th>District_Wynberg</th>\n",
       "      <th>District_Wynberg Upper</th>\n",
       "      <th>District_Zonnebloem</th>\n",
       "      <th>District_Zwaanswyk</th>\n",
       "      <th>District_others</th>\n",
       "      <th>Type_of_property_Apartment / Flat</th>\n",
       "      <th>Type_of_property_House</th>\n",
       "      <th>Type_of_property_Townhouse</th>\n",
       "    </tr>\n",
       "  </thead>\n",
       "  <tbody>\n",
       "    <tr>\n",
       "      <th>0</th>\n",
       "      <td>3.0</td>\n",
       "      <td>3.0</td>\n",
       "      <td>304.0</td>\n",
       "      <td>326.0</td>\n",
       "      <td>2.0</td>\n",
       "      <td>2020-07-10</td>\n",
       "      <td>108859219</td>\n",
       "      <td>1.0</td>\n",
       "      <td>6480000.0</td>\n",
       "      <td>Tokai, Cape Town</td>\n",
       "      <td>...</td>\n",
       "      <td>0</td>\n",
       "      <td>0</td>\n",
       "      <td>0</td>\n",
       "      <td>0</td>\n",
       "      <td>0</td>\n",
       "      <td>0</td>\n",
       "      <td>0</td>\n",
       "      <td>0</td>\n",
       "      <td>1</td>\n",
       "      <td>0</td>\n",
       "    </tr>\n",
       "    <tr>\n",
       "      <th>1</th>\n",
       "      <td>3.0</td>\n",
       "      <td>3.0</td>\n",
       "      <td>430.5</td>\n",
       "      <td>140.0</td>\n",
       "      <td>2.0</td>\n",
       "      <td>2020-09-23</td>\n",
       "      <td>109153971</td>\n",
       "      <td>1.0</td>\n",
       "      <td>6250000.0</td>\n",
       "      <td>14 Graham Road, Sea Point, Cape Town</td>\n",
       "      <td>...</td>\n",
       "      <td>0</td>\n",
       "      <td>0</td>\n",
       "      <td>0</td>\n",
       "      <td>0</td>\n",
       "      <td>0</td>\n",
       "      <td>0</td>\n",
       "      <td>0</td>\n",
       "      <td>0</td>\n",
       "      <td>0</td>\n",
       "      <td>1</td>\n",
       "    </tr>\n",
       "    <tr>\n",
       "      <th>2</th>\n",
       "      <td>3.5</td>\n",
       "      <td>4.0</td>\n",
       "      <td>659.0</td>\n",
       "      <td>300.0</td>\n",
       "      <td>2.0</td>\n",
       "      <td>2020-09-23</td>\n",
       "      <td>109154367</td>\n",
       "      <td>0.0</td>\n",
       "      <td>13950000.0</td>\n",
       "      <td>Camps Bay, Cape Town</td>\n",
       "      <td>...</td>\n",
       "      <td>0</td>\n",
       "      <td>0</td>\n",
       "      <td>0</td>\n",
       "      <td>0</td>\n",
       "      <td>0</td>\n",
       "      <td>0</td>\n",
       "      <td>0</td>\n",
       "      <td>0</td>\n",
       "      <td>1</td>\n",
       "      <td>0</td>\n",
       "    </tr>\n",
       "    <tr>\n",
       "      <th>3</th>\n",
       "      <td>1.0</td>\n",
       "      <td>2.0</td>\n",
       "      <td>430.5</td>\n",
       "      <td>92.0</td>\n",
       "      <td>1.0</td>\n",
       "      <td>2020-09-23</td>\n",
       "      <td>109154455</td>\n",
       "      <td>0.0</td>\n",
       "      <td>1050000.0</td>\n",
       "      <td>Ottery, Cape Town</td>\n",
       "      <td>...</td>\n",
       "      <td>0</td>\n",
       "      <td>0</td>\n",
       "      <td>0</td>\n",
       "      <td>0</td>\n",
       "      <td>0</td>\n",
       "      <td>0</td>\n",
       "      <td>0</td>\n",
       "      <td>1</td>\n",
       "      <td>0</td>\n",
       "      <td>0</td>\n",
       "    </tr>\n",
       "    <tr>\n",
       "      <th>4</th>\n",
       "      <td>1.0</td>\n",
       "      <td>1.0</td>\n",
       "      <td>430.5</td>\n",
       "      <td>61.0</td>\n",
       "      <td>1.0</td>\n",
       "      <td>2020-07-23</td>\n",
       "      <td>108907258</td>\n",
       "      <td>0.0</td>\n",
       "      <td>1265000.0</td>\n",
       "      <td>Muizenberg, Cape Town</td>\n",
       "      <td>...</td>\n",
       "      <td>0</td>\n",
       "      <td>0</td>\n",
       "      <td>0</td>\n",
       "      <td>0</td>\n",
       "      <td>0</td>\n",
       "      <td>0</td>\n",
       "      <td>0</td>\n",
       "      <td>1</td>\n",
       "      <td>0</td>\n",
       "      <td>0</td>\n",
       "    </tr>\n",
       "  </tbody>\n",
       "</table>\n",
       "<p>5 rows × 107 columns</p>\n",
       "</div>"
      ],
      "text/plain": [
       "   Bathrooms  Bedrooms  Erf_size  Floor_size  Garages Listing_date  \\\n",
       "0        3.0       3.0     304.0       326.0      2.0   2020-07-10   \n",
       "1        3.0       3.0     430.5       140.0      2.0   2020-09-23   \n",
       "2        3.5       4.0     659.0       300.0      2.0   2020-09-23   \n",
       "3        1.0       2.0     430.5        92.0      1.0   2020-09-23   \n",
       "4        1.0       1.0     430.5        61.0      1.0   2020-07-23   \n",
       "\n",
       "   Listing_number  Pet_friendly       Price  \\\n",
       "0       108859219           1.0   6480000.0   \n",
       "1       109153971           1.0   6250000.0   \n",
       "2       109154367           0.0  13950000.0   \n",
       "3       109154455           0.0   1050000.0   \n",
       "4       108907258           0.0   1265000.0   \n",
       "\n",
       "                                   Town  ... District_Waterfront  \\\n",
       "0                      Tokai, Cape Town  ...                   0   \n",
       "1  14 Graham Road, Sea Point, Cape Town  ...                   0   \n",
       "2                  Camps Bay, Cape Town  ...                   0   \n",
       "3                     Ottery, Cape Town  ...                   0   \n",
       "4                 Muizenberg, Cape Town  ...                   0   \n",
       "\n",
       "   District_Woodstock  District_Wynberg  District_Wynberg Upper  \\\n",
       "0                   0                 0                       0   \n",
       "1                   0                 0                       0   \n",
       "2                   0                 0                       0   \n",
       "3                   0                 0                       0   \n",
       "4                   0                 0                       0   \n",
       "\n",
       "   District_Zonnebloem  District_Zwaanswyk  District_others  \\\n",
       "0                    0                   0                0   \n",
       "1                    0                   0                0   \n",
       "2                    0                   0                0   \n",
       "3                    0                   0                0   \n",
       "4                    0                   0                0   \n",
       "\n",
       "   Type_of_property_Apartment / Flat  Type_of_property_House  \\\n",
       "0                                  0                       1   \n",
       "1                                  0                       0   \n",
       "2                                  0                       1   \n",
       "3                                  1                       0   \n",
       "4                                  1                       0   \n",
       "\n",
       "   Type_of_property_Townhouse  \n",
       "0                           0  \n",
       "1                           1  \n",
       "2                           0  \n",
       "3                           0  \n",
       "4                           0  \n",
       "\n",
       "[5 rows x 107 columns]"
      ]
     },
     "execution_count": 5,
     "metadata": {},
     "output_type": "execute_result"
    }
   ],
   "source": [
    "df.head()"
   ]
  },
  {
   "cell_type": "markdown",
   "metadata": {},
   "source": [
    "<ul><li><h3>Transformation Logarithme</h3></li></ul>\n",
    "<p>Cette  transformation est utile pour que la distribution soit proche de loi normale</p>"
   ]
  },
  {
   "cell_type": "code",
   "execution_count": 6,
   "metadata": {},
   "outputs": [],
   "source": [
    "df[\"Bathrooms_log\"] = np.log(df['Bathrooms']+1)\n",
    "df[\"Bedrooms_log\"]  = np.log(df['Bedrooms']+1)\n",
    "df[\"Floor_size_log\"]= np.log(df['Floor_size']+1)\n",
    "df[\"Erf_size_log\"]  = np.log(df['Erf_size']+1)\n",
    "df[\"Garages_log\"]   = np.log(df['Garages']+1)\n",
    "df[\"Secure_parking_log\"] = np.log(df['Secure_parking']+1)\n",
    "df[\"Parking_log\"]   = np.log(df['Parking']+1)\n",
    "df[\"Price_log\"]     = np.log(df['Price'])"
   ]
  },
  {
   "cell_type": "markdown",
   "metadata": {},
   "source": [
    "<h2>2 ) Fractionnement des données</h2>"
   ]
  },
  {
   "cell_type": "markdown",
   "metadata": {},
   "source": [
    "<ul><li><h3>Fractionnement</h3></li></ul>"
   ]
  },
  {
   "cell_type": "code",
   "execution_count": 7,
   "metadata": {},
   "outputs": [],
   "source": [
    "##train:80% et test:20%\n",
    "np.random.seed(10)\n",
    "train,test=train_test_split(df,test_size=0.2,random_state=0)"
   ]
  },
  {
   "cell_type": "markdown",
   "metadata": {},
   "source": [
    "<p>Pour la regression linéaire et Ridge, les données doivent suivre la loi Normal, c'est a dire qu'il faut utiliser les variable issue du Log Transform pour plus de performance</p>\n",
    "<p>Pour les autres models, on n'utilisera pas les variables avec log</p>"
   ]
  },
  {
   "cell_type": "markdown",
   "metadata": {},
   "source": [
    "<ul><li><h3>Definition des données train et test</h3></li></ul>"
   ]
  },
  {
   "cell_type": "code",
   "execution_count": 8,
   "metadata": {},
   "outputs": [],
   "source": [
    "#Variable non significatif, qualitatif(non dummies) ou Label\n",
    "not_used_features = [\n",
    "            'Listing_date',\n",
    "            'Listing_number', \n",
    "            'Price',\n",
    "            'Town', \n",
    "            'month',\n",
    "            'year', \n",
    "            'District',\n",
    "            'Price_bins',\n",
    "            'Type_of_property', \n",
    "            'Price_log',\n",
    "            'Price',\n",
    "        ]\n",
    "\n",
    "simple_features = [\n",
    "                    'Bathrooms',\n",
    "                    'Bedrooms',\n",
    "                    'Floor_size',\n",
    "                    'Erf_size',\n",
    "                    'Garages',\n",
    "                    'Secure_parking',\n",
    "                    'Parking',\n",
    "                ]\n",
    "log_features =[\n",
    "                    'Bathrooms_log',\n",
    "                    'Bedrooms_log',\n",
    "                    'Floor_size_log',\n",
    "                    'Erf_size_log',\n",
    "                    'Garages_log',\n",
    "                    'Secure_parking_log',\n",
    "                    'Parking_log',\n",
    "                    \n",
    "                ]\n",
    "                \n",
    "features_with_log       = [x for x in df.columns.tolist() if x not in simple_features and x not in not_used_features]\n",
    "features_without_log    = [x for x in df.columns.tolist() if x not in log_features and x not in not_used_features]"
   ]
  },
  {
   "cell_type": "code",
   "execution_count": 9,
   "metadata": {},
   "outputs": [],
   "source": [
    "### Donnée pour La regression linéaire et ridge\n",
    "X_train_log   = train[features_with_log]\n",
    "y_train_log   = train['Price_log']\n",
    "X_test_log    = test[features_with_log]\n",
    "y_test_log    = test['Price_log']"
   ]
  },
  {
   "cell_type": "code",
   "execution_count": 10,
   "metadata": {},
   "outputs": [],
   "source": [
    "### Donnée pour les autres models\n",
    "X_train = train[features_without_log]\n",
    "y_train = train['Price_log']\n",
    "X_test = test[features_without_log]\n",
    "y_test = test['Price_log']"
   ]
  },
  {
   "cell_type": "markdown",
   "metadata": {},
   "source": [
    "<h2>3) Modelisation</h2>"
   ]
  },
  {
   "cell_type": "markdown",
   "metadata": {},
   "source": [
    "<ul><li><h3>Regression Linéaire</h3></li></ul>"
   ]
  },
  {
   "cell_type": "code",
   "execution_count": 13,
   "metadata": {},
   "outputs": [
    {
     "name": "stdout",
     "output_type": "stream",
     "text": [
      "RMSE train : 0.33212611235040906\n",
      "RMSE test : 3213819722.9759736\n"
     ]
    }
   ],
   "source": [
    "regr = linear_model.LinearRegression()\n",
    "regr.fit(X_train_log, y_train_log)\n",
    "\n",
    "y_pred = regr.predict(X_test_log)\n",
    "train_pred = regr.predict(X_train_log)\n",
    "\n",
    "trainrmse = np.sqrt(metrics.mean_squared_error(y_train_log, train_pred ))\n",
    "rmse = np.sqrt(metrics.mean_squared_error(y_test_log, y_pred))\n",
    "print(\"RMSE train :\",trainrmse)\n",
    "print(\"RMSE test :\",rmse)"
   ]
  },
  {
   "cell_type": "markdown",
   "metadata": {},
   "source": [
    "<ul><li><h3>Regression Ridge</h3></li></ul>"
   ]
  },
  {
   "cell_type": "code",
   "execution_count": 15,
   "metadata": {},
   "outputs": [
    {
     "name": "stdout",
     "output_type": "stream",
     "text": [
      "RMSE train : 0.33212734548175565\n",
      "RMSE test : 0.336867115156158\n"
     ]
    }
   ],
   "source": [
    "model = Ridge()\n",
    "grid = dict()\n",
    "grid['alpha'] = np.arange(0.02, 1, 0.01)\n",
    "\n",
    "search = GridSearchCV(model, grid, scoring='neg_mean_absolute_error', cv=5, n_jobs=-1)\n",
    "ridge = search\n",
    "ridge.fit(X_train_log, y_train_log)\n",
    "y_pred_ridge    = ridge.predict(X_test_log)\n",
    "train_pred      = ridge.predict(X_train_log)\n",
    "trainrmse       = np.sqrt(metrics.mean_squared_error(y_train_log, train_pred ))\n",
    "rmse            = np.sqrt(metrics.mean_squared_error(y_test_log, y_pred_ridge))\n",
    "print(\"RMSE train :\",trainrmse)\n",
    "print(\"RMSE test :\",rmse)"
   ]
  },
  {
   "cell_type": "code",
   "execution_count": 16,
   "metadata": {},
   "outputs": [
    {
     "data": {
      "text/plain": [
       "{'alpha': 0.06}"
      ]
     },
     "execution_count": 16,
     "metadata": {},
     "output_type": "execute_result"
    }
   ],
   "source": [
    "ridge.best_params_"
   ]
  },
  {
   "cell_type": "markdown",
   "metadata": {},
   "source": [
    "<ul><li><h3>Decision tree</h3></li></ul>"
   ]
  },
  {
   "cell_type": "code",
   "execution_count": 19,
   "metadata": {},
   "outputs": [
    {
     "name": "stdout",
     "output_type": "stream",
     "text": [
      "RMSE train : 0.044511809432516744\n",
      "RMSE test : 0.43184374877380255\n"
     ]
    }
   ],
   "source": [
    "dt = DecisionTreeRegressor(random_state=0)\n",
    "dt.fit(X_train,y_train)\n",
    "y_train_pred = dt.predict(X_train)\n",
    "y_test_pred = dt.predict(X_test)\n",
    "train_rmse = np.sqrt(metrics.mean_squared_error(y_train, y_train_pred ))\n",
    "test_rmse = np.sqrt(metrics.mean_squared_error(y_test, y_test_pred))\n",
    "print(\"RMSE train :\",train_rmse)\n",
    "print(\"RMSE test :\",test_rmse)"
   ]
  },
  {
   "cell_type": "markdown",
   "metadata": {},
   "source": [
    "<ul><li><h3>Random forest</h3></li></ul>"
   ]
  },
  {
   "cell_type": "code",
   "execution_count": 20,
   "metadata": {},
   "outputs": [
    {
     "name": "stdout",
     "output_type": "stream",
     "text": [
      "RMSE train : 0.044511809432516744\n",
      "RMSE test : 0.43184374877380255\n"
     ]
    }
   ],
   "source": [
    "\n",
    "rf = RandomForestRegressor()\n",
    "rf.fit(X_train,y_train)\n",
    "y_train_pred    = dt.predict(X_train)\n",
    "y_test_pred     = dt.predict(X_test)\n",
    "train_rmse      = np.sqrt(metrics.mean_squared_error(y_train, y_train_pred ))\n",
    "test_rmse       = np.sqrt(metrics.mean_squared_error(y_test, y_test_pred))\n",
    "print(\"RMSE train :\",train_rmse)\n",
    "print(\"RMSE test :\",test_rmse)"
   ]
  },
  {
   "cell_type": "code",
   "execution_count": 21,
   "metadata": {},
   "outputs": [
    {
     "name": "stdout",
     "output_type": "stream",
     "text": [
      "RandomForestRegressor(max_depth=30, max_features=21, n_estimators=1000)\n",
      "RMSE train : 0.15536059327667373\n",
      "RMSE test : 0.31832117699199025\n"
     ]
    }
   ],
   "source": [
    "### Random forest avec tunning Random Search\n",
    "\n",
    "parameters = {\n",
    "                'bootstrap': [True],\n",
    "                'max_depth': [None, 10, 20, 30],\n",
    "                'max_features': range(20, 27),\n",
    "                'min_samples_leaf': [3, 4, 5,1],\n",
    "                'min_samples_split': [2,8, 10, 12],\n",
    "                'n_estimators': [100, 200, 300, 1000]\n",
    "            }\n",
    "search  = RandomizedSearchCV(random_state=42,estimator=rf, param_distributions = parameters, cv = 5, n_jobs=-1).fit(X_train, y_train)\n",
    "rf      = search.best_estimator_\n",
    "print(rf)\n",
    "\n",
    "test_pred   = rf.predict(X_test)\n",
    "train_pred  = rf.predict(X_train)\n",
    "trainrmse   = np.sqrt(metrics.mean_squared_error(y_train, train_pred ))\n",
    "rmse        = np.sqrt(metrics.mean_squared_error(y_test, test_pred))\n",
    "print(\"RMSE train :\",trainrmse)\n",
    "print(\"RMSE test :\",rmse)"
   ]
  },
  {
   "cell_type": "code",
   "execution_count": 22,
   "metadata": {},
   "outputs": [
    {
     "name": "stdout",
     "output_type": "stream",
     "text": [
      "std = 0.014519582762890672\n",
      "mean= 0.33402334457370625\n"
     ]
    }
   ],
   "source": [
    "### Random forest Cross validation\n",
    "\n",
    "kf      = KFold(10, shuffle=True, random_state=42).get_n_splits(X_train)\n",
    "rmse    = np.sqrt(-cross_val_score(rf, X_train, y_train, scoring=\"neg_mean_squared_error\", cv = kf))\n",
    "print(\"std =\",np.std(rmse))\n",
    "print(\"mean=\",np.mean(rmse))\n",
    "print(rmse)"
   ]
  },
  {
   "cell_type": "markdown",
   "metadata": {},
   "source": [
    "<ul><li><h3>Gradient Boosting</h3></li></ul>"
   ]
  },
  {
   "cell_type": "code",
   "execution_count": 24,
   "metadata": {},
   "outputs": [
    {
     "name": "stdout",
     "output_type": "stream",
     "text": [
      "RMSE train : 0.374229118528115\n",
      "RMSE test : 0.3819963876056813\n"
     ]
    }
   ],
   "source": [
    "gbr = GradientBoostingRegressor()\n",
    "gbr.fit(X_train,y_train)\n",
    "y_train_pred    = gbr.predict(X_train)\n",
    "y_test_pred     = gbr.predict(X_test)\n",
    "train_rmse      = np.sqrt(metrics.mean_squared_error(y_train, y_train_pred ))\n",
    "test_rmse       = np.sqrt(metrics.mean_squared_error(y_test, y_test_pred))\n",
    "print(\"RMSE train :\",train_rmse)\n",
    "print(\"RMSE test :\",test_rmse)"
   ]
  },
  {
   "cell_type": "code",
   "execution_count": 25,
   "metadata": {},
   "outputs": [
    {
     "name": "stdout",
     "output_type": "stream",
     "text": [
      "GradientBoostingRegressor(learning_rate=0.03, max_depth=6, n_estimators=1000,\n",
      "                          subsample=0.9)\n",
      "RMSE train : 0.1856319087239159\n",
      "RMSE test : 0.2824625976256793\n"
     ]
    }
   ],
   "source": [
    "### Gradient Boosting with tunning\n",
    "\n",
    "parameters = {  \n",
    "                'learning_rate': [0.01,0.02,0.03],\n",
    "                'subsample'    : [0.9, 0.5, 0.2, 0.1,1],\n",
    "                'n_estimators' : [100,500,1000],\n",
    "                'max_depth'    : [4,6,8,3]\n",
    "            }\n",
    "search = RandomizedSearchCV(random_state=42, estimator=gbr, param_distributions = parameters, cv = 5, n_jobs=-1).fit(X_train, y_train)\n",
    "gbr = search.best_estimator_\n",
    "print(gbr)\n",
    "\n",
    "test_pred   = gbr.predict(X_test)\n",
    "train_pred  = gbr.predict(X_train)\n",
    "trainrmse   = np.sqrt(metrics.mean_squared_error(y_train, train_pred ))\n",
    "rmse        = np.sqrt(metrics.mean_squared_error(y_test, test_pred))\n",
    "print(\"RMSE train :\",trainrmse)\n",
    "print(\"RMSE test :\",rmse)"
   ]
  },
  {
   "cell_type": "code",
   "execution_count": 26,
   "metadata": {},
   "outputs": [
    {
     "name": "stdout",
     "output_type": "stream",
     "text": [
      "std = 0.011166680552356562\n",
      "mean= 0.2854200397040854\n",
      "[0.2998157  0.28567211 0.2868389  0.29519789 0.28420006 0.2928792\n",
      " 0.28088358 0.25622654 0.28392945 0.28855698]\n"
     ]
    }
   ],
   "source": [
    "### Gradient Boosting cross validation\n",
    "\n",
    "kf      = KFold(10, shuffle=True, random_state=42).get_n_splits(X_train)\n",
    "rmse    = np.sqrt(-cross_val_score(gbr, X_train, y_train, scoring=\"neg_mean_squared_error\", cv = kf))\n",
    "print(\"std =\",np.std(rmse))\n",
    "print(\"mean=\",np.mean(rmse))\n",
    "print(rmse)"
   ]
  },
  {
   "cell_type": "markdown",
   "metadata": {},
   "source": [
    "<ul><li><h3>Xgboost</h3></li></ul>"
   ]
  },
  {
   "cell_type": "code",
   "execution_count": 27,
   "metadata": {},
   "outputs": [
    {
     "name": "stdout",
     "output_type": "stream",
     "text": [
      "RMSE train : 0.20913142824125416\n",
      "RMSE test : 0.2866707585744532\n"
     ]
    }
   ],
   "source": [
    "xgb = XGBRegressor()\n",
    "xgb.fit(X_train,y_train)\n",
    "train_pred = xgb.predict(X_train)\n",
    "test_pred= xgb.predict(X_test)\n",
    "train_rmse_xgb = np.sqrt(metrics.mean_squared_error(y_train, train_pred ))\n",
    "rmse_xgb = np.sqrt(metrics.mean_squared_error(y_test, test_pred))\n",
    "print(\"RMSE train :\",train_rmse_xgb)\n",
    "print(\"RMSE test :\",rmse_xgb)"
   ]
  },
  {
   "cell_type": "code",
   "execution_count": 28,
   "metadata": {},
   "outputs": [
    {
     "name": "stdout",
     "output_type": "stream",
     "text": [
      "RMSE train : 0.2040485167529256\n",
      "RMSE test : 0.2778018069092156\n"
     ]
    }
   ],
   "source": [
    "### Xgboost with tunning \n",
    "\n",
    "params = {\n",
    "        'min_child_weight': [1, 5, 10],\n",
    "        'gamma': [0.5, 1, 1.5, 2, 5,0],\n",
    "        'subsample': [0.6, 0.8, 1.0],\n",
    "        'colsample_bytree': [0.6, 0.8, 1.0],\n",
    "        'max_depth': [3, 4, 5]\n",
    "        }\n",
    "search = RandomizedSearchCV(random_state=42, estimator=xgb, param_distributions = parameters, cv = 5, n_jobs=-1).fit(X_train, y_train)\n",
    "xgb = search.best_estimator_\n",
    "\n",
    "test_pred       = xgb.predict(X_test)\n",
    "train_pred      = xgb.predict(X_train)\n",
    "trainrmse       = np.sqrt(metrics.mean_squared_error(y_train, train_pred ))\n",
    "rmse            = np.sqrt(metrics.mean_squared_error(y_test, test_pred))\n",
    "print(\"RMSE train :\",trainrmse)\n",
    "print(\"RMSE test :\",rmse)"
   ]
  },
  {
   "cell_type": "code",
   "execution_count": 29,
   "metadata": {},
   "outputs": [
    {
     "name": "stdout",
     "output_type": "stream",
     "text": [
      "std = 0.011577374474896521\n",
      "mean= 0.28538169730726615\n",
      "[0.30467038 0.28536548 0.28501065 0.29415153 0.28222266 0.2911139\n",
      " 0.28032553 0.25699719 0.28452378 0.28943588]\n"
     ]
    }
   ],
   "source": [
    "### Xgboost cross validation\n",
    "\n",
    "kf      = KFold(10, shuffle=True, random_state=42).get_n_splits(X_train)\n",
    "rmse    = np.sqrt(-cross_val_score(gbr, X_train, y_train, scoring=\"neg_mean_squared_error\", cv = kf))\n",
    "print(\"std =\",np.std(rmse))\n",
    "print(\"mean=\",np.mean(rmse))\n",
    "print(rmse)"
   ]
  },
  {
   "cell_type": "markdown",
   "metadata": {},
   "source": [
    "<ul><li><h3>Stacking</h3></li></ul>"
   ]
  },
  {
   "cell_type": "code",
   "execution_count": 30,
   "metadata": {},
   "outputs": [],
   "source": [
    "stacking = StackingRegressor([\n",
    "                                ('XGB',xgb),\n",
    "                                ('random_forest', rf),\n",
    "                                ('GB', gbr)\n",
    "                                \n",
    "                             ],\n",
    "                         final_estimator=LinearRegression(), cv=5)"
   ]
  },
  {
   "cell_type": "code",
   "execution_count": 31,
   "metadata": {},
   "outputs": [
    {
     "data": {
      "text/plain": [
       "StackingRegressor(cv=5,\n",
       "                  estimators=[('XGB',\n",
       "                               XGBRegressor(base_score=0.5, booster='gbtree',\n",
       "                                            colsample_bylevel=1,\n",
       "                                            colsample_bynode=1,\n",
       "                                            colsample_bytree=1, gamma=0,\n",
       "                                            gpu_id=-1, importance_type='gain',\n",
       "                                            interaction_constraints='',\n",
       "                                            learning_rate=0.03,\n",
       "                                            max_delta_step=0, max_depth=6,\n",
       "                                            min_child_weight=1, missing=nan,\n",
       "                                            monotone_constraints='()',\n",
       "                                            n_estimators=1000, n_jobs=8,\n",
       "                                            num_p...dom_state=0,\n",
       "                                            reg_alpha=0, reg_lambda=1,\n",
       "                                            scale_pos_weight=1, subsample=0.9,\n",
       "                                            tree_method='exact',\n",
       "                                            validate_parameters=1,\n",
       "                                            verbosity=None)),\n",
       "                              ('random_forest',\n",
       "                               RandomForestRegressor(max_depth=30,\n",
       "                                                     max_features=21,\n",
       "                                                     n_estimators=1000)),\n",
       "                              ('GB',\n",
       "                               GradientBoostingRegressor(learning_rate=0.03,\n",
       "                                                         max_depth=6,\n",
       "                                                         n_estimators=1000,\n",
       "                                                         subsample=0.9))],\n",
       "                  final_estimator=LinearRegression())"
      ]
     },
     "execution_count": 31,
     "metadata": {},
     "output_type": "execute_result"
    }
   ],
   "source": [
    "stacking.fit(X_train, y_train)"
   ]
  },
  {
   "cell_type": "code",
   "execution_count": 32,
   "metadata": {},
   "outputs": [
    {
     "name": "stdout",
     "output_type": "stream",
     "text": [
      "RMSE train : 0.19725153447599014\n",
      "RMSE test : 0.27630052494312346\n"
     ]
    }
   ],
   "source": [
    "test_pred   = stacking.predict(X_test)\n",
    "train_pred  = stacking.predict(X_train)\n",
    "trainrmse   = np.sqrt(metrics.mean_squared_error(y_train, train_pred ))\n",
    "rmse        = np.sqrt(metrics.mean_squared_error(y_test, test_pred))\n",
    "print(\"RMSE train :\",trainrmse)\n",
    "print(\"RMSE test :\",rmse)"
   ]
  },
  {
   "cell_type": "code",
   "execution_count": 33,
   "metadata": {},
   "outputs": [
    {
     "name": "stdout",
     "output_type": "stream",
     "text": [
      "std = 0.010040133819838138\n",
      "mean= 0.27946550476637366\n",
      "[0.29583736 0.28280995 0.27711952 0.28143834 0.27920085 0.28332335\n",
      " 0.27985123 0.25303549 0.28170755 0.28033141]\n"
     ]
    }
   ],
   "source": [
    "##Stacking cross validation\n",
    "\n",
    "kf      = KFold(10, shuffle=True, random_state=42).get_n_splits(X_train)\n",
    "rmse    = np.sqrt(-cross_val_score(stacking, X_train, y_train, scoring=\"neg_mean_squared_error\", cv = kf))\n",
    "print(\"std =\",np.std(rmse))\n",
    "print(\"mean=\",np.mean(rmse))\n",
    "print(rmse)"
   ]
  },
  {
   "cell_type": "markdown",
   "metadata": {},
   "source": [
    "<h2>4) Conclusion</h2>"
   ]
  },
  {
   "cell_type": "markdown",
   "metadata": {},
   "source": [
    "<p>Le stacking est la méthode de modélisation la plus efficace et la plus stable selon les évaluations réalisées avec :</p>\n",
    "<ul>\n",
    "    <li>RMSE train : 0.197</li>\n",
    "    <li>RMSE test : 0.276</li>\n",
    "    <li>std = 0.010  cross validation (ce qui montre bien la stabilité du modèle)</li>\n",
    "</ul>\n",
    "<p>malgré son coût élevé en temps d'entrainnement.</p>\n",
    "<br/>\n",
    "\n",
    "<p>Il est aussi possible d'améliorer les résultats en utilisant la \"feature selection\".</p>"
   ]
  }
 ],
 "metadata": {
  "interpreter": {
   "hash": "a7829d1ed43ddbf5b48487fc09f8d47f02b6887d17a5b9ac72e99f7acf7c2771"
  },
  "kernelspec": {
   "display_name": "Python 3.8.5 64-bit ('base': conda)",
   "language": "python",
   "name": "python3"
  },
  "language_info": {
   "codemirror_mode": {
    "name": "ipython",
    "version": 3
   },
   "file_extension": ".py",
   "mimetype": "text/x-python",
   "name": "python",
   "nbconvert_exporter": "python",
   "pygments_lexer": "ipython3",
   "version": "3.8.5"
  },
  "orig_nbformat": 4
 },
 "nbformat": 4,
 "nbformat_minor": 2
}
